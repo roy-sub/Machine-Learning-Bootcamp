{
  "nbformat": 4,
  "nbformat_minor": 0,
  "metadata": {
    "colab": {
      "provenance": [],
      "include_colab_link": true
    },
    "kernelspec": {
      "name": "python3",
      "display_name": "Python 3"
    }
  },
  "cells": [
    {
      "cell_type": "markdown",
      "metadata": {
        "id": "view-in-github",
        "colab_type": "text"
      },
      "source": [
        "<a href=\"https://colab.research.google.com/github/roy-sub/Machine-Learning-Bootcamp/blob/main/Fashion_MNIST.ipynb\" target=\"_parent\"><img src=\"https://colab.research.google.com/assets/colab-badge.svg\" alt=\"Open In Colab\"/></a>"
      ]
    },
    {
      "cell_type": "code",
      "metadata": {
        "id": "bZelBBoNfZGZ"
      },
      "source": [
        "from tensorflow import keras"
      ],
      "execution_count": null,
      "outputs": []
    },
    {
      "cell_type": "code",
      "metadata": {
        "colab": {
          "base_uri": "https://localhost:8080/"
        },
        "id": "tjrVR3slgkcS",
        "outputId": "1edce4eb-caff-409d-b244-e3d1b4faf426"
      },
      "source": [
        "from keras import datasets\n",
        "(x_train, y_train), (x_test, y_test) = datasets.fashion_mnist.load_data()"
      ],
      "execution_count": null,
      "outputs": [
        {
          "output_type": "stream",
          "text": [
            "Downloading data from https://storage.googleapis.com/tensorflow/tf-keras-datasets/train-labels-idx1-ubyte.gz\n",
            "32768/29515 [=================================] - 0s 0us/step\n",
            "Downloading data from https://storage.googleapis.com/tensorflow/tf-keras-datasets/train-images-idx3-ubyte.gz\n",
            "26427392/26421880 [==============================] - 0s 0us/step\n",
            "Downloading data from https://storage.googleapis.com/tensorflow/tf-keras-datasets/t10k-labels-idx1-ubyte.gz\n",
            "8192/5148 [===============================================] - 0s 0us/step\n",
            "Downloading data from https://storage.googleapis.com/tensorflow/tf-keras-datasets/t10k-images-idx3-ubyte.gz\n",
            "4423680/4422102 [==============================] - 0s 0us/step\n"
          ],
          "name": "stdout"
        }
      ]
    },
    {
      "cell_type": "code",
      "metadata": {
        "colab": {
          "base_uri": "https://localhost:8080/"
        },
        "id": "22cHmk_Jg4qu",
        "outputId": "212bce6c-677c-4378-e26a-b0d82aed6ab0"
      },
      "source": [
        "print(x_train.shape)\n",
        "print(x_test.shape)"
      ],
      "execution_count": null,
      "outputs": [
        {
          "output_type": "stream",
          "text": [
            "(60000, 28, 28)\n",
            "(10000, 28, 28)\n"
          ],
          "name": "stdout"
        }
      ]
    },
    {
      "cell_type": "code",
      "metadata": {
        "id": "J81bB-VMqHBM"
      },
      "source": [
        "class_names = [\"T-shirt/top\",\"Trouser\",\"Pullover\",\"Dress\",\"Coat\",\"Sandal\",\"Shirt\",\"Sneaker\",\"Bag\",\"Ankle boot\"]"
      ],
      "execution_count": null,
      "outputs": []
    },
    {
      "cell_type": "code",
      "metadata": {
        "colab": {
          "base_uri": "https://localhost:8080/",
          "height": 282
        },
        "id": "1ktt9XROg965",
        "outputId": "e061a418-327d-4f69-a4f8-45c588a25713"
      },
      "source": [
        "# Images : Data which made up of many Pixels(Picture Elements)\n",
        "import matplotlib.pyplot as plt\n",
        "img =125\n",
        "plt.imshow(x_train[img],cmap='gray')\n",
        "plt.show()\n",
        "print(class_names[y_train[img]])\n",
        "\n",
        "\n",
        "# https://github.com/zalandoresearch/fashion-mnist"
      ],
      "execution_count": null,
      "outputs": [
        {
          "output_type": "display_data",
          "data": {
            "image/png": "[encoded data removed]",
            "text/plain": [
              "<Figure size 432x288 with 1 Axes>"
            ]
          },
          "metadata": {
            "tags": [],
            "needs_background": "light"
          }
        },
        {
          "output_type": "stream",
          "text": [
            "Pullover\n"
          ],
          "name": "stdout"
        }
      ]
    },
    {
      "cell_type": "code",
      "metadata": {
        "colab": {
          "base_uri": "https://localhost:8080/"
        },
        "id": "BHhAvYvMr0Ge",
        "outputId": "7259d28c-086e-467f-ad83-2b6b65697472"
      },
      "source": [
        "len(np.unique(y_train))"
      ],
      "execution_count": null,
      "outputs": [
        {
          "output_type": "execute_result",
          "data": {
            "text/plain": [
              "10"
            ]
          },
          "metadata": {
            "tags": []
          },
          "execution_count": 16
        }
      ]
    },
    {
      "cell_type": "code",
      "metadata": {
        "colab": {
          "base_uri": "https://localhost:8080/"
        },
        "id": "1ubZJmwihk1T",
        "outputId": "d7c97384-5626-4d6f-f23f-18b6e32eda32"
      },
      "source": [
        "#0 to 255  = Pixel Range\n",
        "28*28"
      ],
      "execution_count": null,
      "outputs": [
        {
          "output_type": "execute_result",
          "data": {
            "text/plain": [
              "784"
            ]
          },
          "metadata": {
            "tags": []
          },
          "execution_count": 5
        }
      ]
    },
    {
      "cell_type": "code",
      "metadata": {
        "colab": {
          "base_uri": "https://localhost:8080/"
        },
        "id": "uJjyHTEDiHAf",
        "outputId": "6e0dfe15-5f96-460a-acda-0ab973adaa66"
      },
      "source": [
        "x_train[104]"
      ],
      "execution_count": null,
      "outputs": [
        {
          "output_type": "execute_result",
          "data": {
            "text/plain": [
              "array([[  0,   0,   0,   0,   0,   0,   2,   2,   2,   2,   0,   0,  48,\n",
              "        150, 255, 206,  61,   0,   0,   0,   0,   0,   0,   0,   0,   0,\n",
              "          0,   0],\n",
              "       [  0,   0,   0,   0,   0,   0,   0,   0,   0,   0,   2,  88, 120,\n",
              "        182,  77,  59, 118, 126,  10,   0,   0,   0,   0,   0,   0,   0,\n",
              "          0,   0],\n",
              "       [  0,   0,   0,   0,   2,   0,   0,   0,  10,  48,  64, 110,  85,\n",
              "         99, 118,  88,  99,  69, 115, 120,  26,   0,   0,   0,   0,   0,\n",
              "          0,   0],\n",
              "       [  0,   0,   0,   0,   2,   0,   0,  59, 153, 161, 115,  77,  72,\n",
              "         77,  99,  88,  99,  99,  85,  93, 142, 104,   0,   0,   0,   0,\n",
              "          0,   0],\n",
              "       [  0,   0,   0,   0,   0,   0,   2,  93,  72, 104,  37,  51,  37,\n",
              "         93, 123, 112, 139, 107,  45,  48,  59, 136,  48,   0,   0,   0,\n",
              "          0,   0],\n",
              "       [  0,   0,   0,   0,   2,   0,  40, 139,  88, 147, 104,  77,  88,\n",
              "         91, 128, 110,  80,  93,  80, 102,  99, 118, 102,   0,   0,   0,\n",
              "          0,   0],\n",
              "       [  0,   0,   0,   0,   0,   0,  37, 144, 126, 120,  77,  96,  83,\n",
              "         53, 104,  85,  77,  69, 104, 134, 102, 136, 195,   0,   0,   0,\n",
              "          0,   0],\n",
              "       [  0,   0,   0,   0,   2,   0,  96, 118,  99,  61,  83,  64,  77,\n",
              "         83, 142, 110, 110,  80,  91,  93, 118,  80, 198,  16,   0,   0,\n",
              "          0,   0],\n",
              "       [  0,   0,   0,   0,   0,   0, 136, 169, 112, 102,  77,  77,  77,\n",
              "         69, 110,  72, 102,  69, 102, 126,  93, 120, 171,  21,   0,   0,\n",
              "          0,   0],\n",
              "       [  0,   0,   0,   0,   0,   0, 112, 112, 136,  93,  48, 118,  88,\n",
              "         77,  75,  96,  69,  85, 134,  99, 179, 123, 134,  64,   0,   0,\n",
              "          0,   0],\n",
              "       [  0,   0,   0,   0,   0,  18, 115, 120, 144, 126, 142,  88, 102,\n",
              "         91, 107,  96, 112, 104, 126, 158, 190,  99, 118, 118,   0,   0,\n",
              "          0,   0],\n",
              "       [  0,   0,   0,   0,   0,  56,  99, 120, 144, 166,  69,  72,  61,\n",
              "        118, 169, 134, 144,  99,  77, 169, 198,  99, 126, 134,   0,   0,\n",
              "          0,   0],\n",
              "       [  0,   0,   0,   0,   0,  88, 120, 155, 163,  85,  77,  72,  77,\n",
              "        104, 131,  96, 126, 102,  64, 131, 233, 110, 104, 120,   0,   0,\n",
              "          0,   0],\n",
              "       [  0,   0,   0,   0,   0,  77,  93, 171, 171, 150, 150, 104, 110,\n",
              "         75,  75,  93,  83, 120, 107, 182, 193, 123, 136, 136,   0,   0,\n",
              "          0,   0],\n",
              "       [  0,   0,   0,   0,   0, 123, 104, 174, 158, 104,  56, 110,  83,\n",
              "         67, 107, 104,  99,  61, 120, 136, 118, 120,  93, 150,  16,   0,\n",
              "          0,   0],\n",
              "       [  0,   0,   0,   0,   0, 115,  69, 201,  99,  64, 123,  77,  99,\n",
              "         99, 110,  85, 123, 126,  69, 150,  29,  80, 128, 161,  34,   0,\n",
              "          0,   0],\n",
              "       [  0,   0,   0,   0,   2, 134,  93, 153,  72, 112,  96,  99,  80,\n",
              "         69, 110,  99,  96,  88,  69, 169,  69,  80, 110, 115,  40,   0,\n",
              "          0,   0],\n",
              "       [  0,   0,   0,   0,   2, 120, 139, 206,  53, 110,  64, 139,  99,\n",
              "         83,  88, 107,  88, 104, 128, 107,  67, 112, 155, 144,  80,   0,\n",
              "          0,   0],\n",
              "       [  0,   0,   0,   0,  16,  96, 102,  96,  24, 153,  64, 139,  91,\n",
              "         69,  96, 107,  93,  93, 142, 123, 110,  75, 131, 169, 115,   0,\n",
              "          0,   0],\n",
              "       [  0,   0,   0,   0,  42, 161, 163,  99,  40, 112,  80,  96,  96,\n",
              "         93, 112, 102, 120,  99, 107,  93,  77,  37, 120, 142, 123,   0,\n",
              "          0,   0],\n",
              "       [  0,   0,   0,   0,  37, 115, 118,  99,  59, 102, 115, 112,  91,\n",
              "         91, 120, 107, 126,  85, 142, 126, 131,  48, 158, 123,  99,   0,\n",
              "          0,   0],\n",
              "       [  0,   0,   0,   0,  34, 126, 123,  72,  64, 104,  51, 139,  93,\n",
              "         69, 107, 107,  75, 102, 110,  93, 123,  37, 187,  96, 112,   0,\n",
              "          0,   0],\n",
              "       [  0,   0,   0,   0,  61, 107, 166,  83,  51, 144, 126, 131, 126,\n",
              "         93, 104, 104, 118, 131, 134, 118, 155,  29, 142, 144, 126,   0,\n",
              "          0,   0],\n",
              "       [  0,   0,   0,   0,  77, 123, 153,  80,  99, 206, 112,  99,  83,\n",
              "        126, 179, 169, 123,  83, 128, 163, 161,  34, 153, 110,  96,   0,\n",
              "          0,   0],\n",
              "       [  0,   0,   0,   0,  42, 150, 179,  80,  96,  88,  48, 104,  77,\n",
              "        134, 174, 147, 115,  77,  91,  96, 134,   8, 174, 150, 120,   0,\n",
              "          0,   0],\n",
              "       [  0,   0,   0,   0,  67, 142, 161,  91, 182, 182, 139, 136, 112,\n",
              "         77, 104,  96, 123,  99, 144, 147, 212,  21, 142, 139, 169,   0,\n",
              "          0,   0],\n",
              "       [  0,   0,   0,   0,  10,  48, 120,   0,  88, 126, 153, 198, 120,\n",
              "         96, 131, 155, 118, 158, 139, 206, 158,   0,  34,  56,  48,   0,\n",
              "          0,   0],\n",
              "       [  0,   0,   0,   0,   0,   0,   0,   0,   0,   0,  29,  53,  96,\n",
              "         83, 104,  77,  83,  64,  64,  42,   0,   0,   0,   0,   0,   0,\n",
              "          0,   0]], dtype=uint8)"
            ]
          },
          "metadata": {
            "tags": []
          },
          "execution_count": 6
        }
      ]
    },
    {
      "cell_type": "code",
      "metadata": {
        "id": "bBNf8wjViMi1"
      },
      "source": [
        "# Opencv - Computer Vision Library for Python\n",
        "# Grayscale = [Height*Width] = (w,h)\n",
        "# Color = [Height*Width*Depth] =(w,h,3) \n",
        "# Depth = 3(RGB)"
      ],
      "execution_count": null,
      "outputs": []
    },
    {
      "cell_type": "code",
      "metadata": {
        "colab": {
          "base_uri": "https://localhost:8080/",
          "height": 117
        },
        "id": "2JvgYYPii1Za",
        "outputId": "9c5a5c13-5330-433d-cf68-4d2ad83ab97c"
      },
      "source": [
        "import numpy as np\n",
        "import cv2\n",
        "from google.colab.patches import cv2_imshow\n",
        "a = np.ones([100,100,3],dtype = 'uint8')*255\n",
        "a[:,:] = [0,255,255]  # BGR\n",
        "#print(a)\n",
        "cv2_imshow(a)"
      ],
      "execution_count": null,
      "outputs": [
        {
          "output_type": "display_data",
          "data": {
            "image/png": "[encoded data removed]",
            "text/plain": [
              "<PIL.Image.Image image mode=RGB size=100x100 at 0x7F257EF62DA0>"
            ]
          },
          "metadata": {
            "tags": []
          }
        }
      ]
    },
    {
      "cell_type": "code",
      "metadata": {
        "colab": {
          "base_uri": "https://localhost:8080/"
        },
        "id": "xswBZOt7syqj",
        "outputId": "c1ed32a4-06cd-47d9-acb8-c3dc15bc6971"
      },
      "source": [
        "y_train[0:10]"
      ],
      "execution_count": null,
      "outputs": [
        {
          "output_type": "execute_result",
          "data": {
            "text/plain": [
              "array([9, 0, 0, 3, 0, 2, 7, 2, 5, 5], dtype=uint8)"
            ]
          },
          "metadata": {
            "tags": []
          },
          "execution_count": 21
        }
      ]
    },
    {
      "cell_type": "code",
      "metadata": {
        "id": "yeVEJ0Q4jEl6"
      },
      "source": [
        "# Building my Neural Network\n",
        "# 1 Layer D-NN\n",
        "\n",
        "model = keras.models.Sequential()\n",
        "model.add(keras.layers.Flatten(input_shape = (28,28)))\n",
        "model.add(keras.layers.Dense(300,activation ='relu'))\n",
        "model.add(keras.layers.Dense(10,activation='softmax'))"
      ],
      "execution_count": null,
      "outputs": []
    },
    {
      "cell_type": "code",
      "metadata": {
        "id": "r3Au8rsTq-Dy"
      },
      "source": [
        "model.compile(loss=\"sparse_categorical_crossentropy\",optimizer='Adam',metrics=['accuracy'])"
      ],
      "execution_count": null,
      "outputs": []
    },
    {
      "cell_type": "code",
      "metadata": {
        "colab": {
          "base_uri": "https://localhost:8080/"
        },
        "id": "0JiJphnxtsaX",
        "outputId": "9f1003fe-29af-41ec-e6b2-74005a0b7b89"
      },
      "source": [
        "history = model.fit(x_train,y_train,epochs = 5,validation_split=0.2)"
      ],
      "execution_count": null,
      "outputs": [
        {
          "output_type": "stream",
          "text": [
            "Epoch 1/5\n",
            "1875/1875 [==============================] - 6s 3ms/step - loss: 13.2997 - accuracy: 0.7137\n",
            "Epoch 2/5\n",
            "1875/1875 [==============================] - 5s 3ms/step - loss: 0.6008 - accuracy: 0.7907\n",
            "Epoch 3/5\n",
            "1875/1875 [==============================] - 5s 3ms/step - loss: 0.5316 - accuracy: 0.8138\n",
            "Epoch 4/5\n",
            "1875/1875 [==============================] - 5s 3ms/step - loss: 0.5155 - accuracy: 0.8210\n",
            "Epoch 5/5\n",
            "1875/1875 [==============================] - 5s 3ms/step - loss: 0.4852 - accuracy: 0.8332\n"
          ],
          "name": "stdout"
        }
      ]
    },
    {
      "cell_type": "code",
      "metadata": {
        "colab": {
          "base_uri": "https://localhost:8080/",
          "height": 282
        },
        "id": "V28DWygSuFPv",
        "outputId": "27f1e8be-339a-4476-e4d2-fb7d4cd3c01d"
      },
      "source": [
        "import pandas as pd\n",
        "pd.DataFrame(history.history['loss']).plot()"
      ],
      "execution_count": null,
      "outputs": [
        {
          "output_type": "execute_result",
          "data": {
            "text/plain": [
              "<matplotlib.axes._subplots.AxesSubplot at 0x7f255ff8fd30>"
            ]
          },
          "metadata": {
            "tags": []
          },
          "execution_count": 25
        },
        {
          "output_type": "display_data",
          "data": {
            "image/png": "[encoded data removed]",
            "text/plain": [
              "<Figure size 432x288 with 1 Axes>"
            ]
          },
          "metadata": {
            "tags": [],
            "needs_background": "light"
          }
        }
      ]
    },
    {
      "cell_type": "code",
      "metadata": {
        "colab": {
          "base_uri": "https://localhost:8080/"
        },
        "id": "VGv4RsZBuauy",
        "outputId": "4be85ee1-03e0-4698-94d7-8119ad48edb8"
      },
      "source": [
        "y_pred = model.predict_classes(x_test)\n",
        "y_pred"
      ],
      "execution_count": null,
      "outputs": [
        {
          "output_type": "stream",
          "text": [
            "/usr/local/lib/python3.6/dist-packages/tensorflow/python/keras/engine/sequential.py:450: UserWarning: `model.predict_classes()` is deprecated and will be removed after 2021-01-01. Please use instead:* `np.argmax(model.predict(x), axis=-1)`,   if your model does multi-class classification   (e.g. if it uses a `softmax` last-layer activation).* `(model.predict(x) > 0.5).astype(\"int32\")`,   if your model does binary classification   (e.g. if it uses a `sigmoid` last-layer activation).\n",
            "  warnings.warn('`model.predict_classes()` is deprecated and '\n"
          ],
          "name": "stderr"
        },
        {
          "output_type": "execute_result",
          "data": {
            "text/plain": [
              "array([9, 2, 1, ..., 8, 1, 5])"
            ]
          },
          "metadata": {
            "tags": []
          },
          "execution_count": 27
        }
      ]
    },
    {
      "cell_type": "code",
      "metadata": {
        "colab": {
          "base_uri": "https://localhost:8080/"
        },
        "id": "Eg3EJnuTvXXk",
        "outputId": "78bcb74d-632c-43ae-b665-d86fad922bb5"
      },
      "source": [
        "y_test"
      ],
      "execution_count": null,
      "outputs": [
        {
          "output_type": "execute_result",
          "data": {
            "text/plain": [
              "array([9, 2, 1, ..., 8, 1, 5], dtype=uint8)"
            ]
          },
          "metadata": {
            "tags": []
          },
          "execution_count": 28
        }
      ]
    },
    {
      "cell_type": "code",
      "metadata": {
        "colab": {
          "base_uri": "https://localhost:8080/"
        },
        "id": "hkLwW6KvvbsC",
        "outputId": "6fb9d5a0-df55-4f59-81e7-9964dd48f701"
      },
      "source": [
        "from sklearn.metrics import accuracy_score,confusion_matrix\n",
        "confusion_matrix(y_pred,y_test)"
      ],
      "execution_count": null,
      "outputs": [
        {
          "output_type": "execute_result",
          "data": {
            "text/plain": [
              "array([[820,   0,  11,  46,   0,   0, 175,   0,   2,   0],\n",
              "       [  6, 959,   2,  17,   2,   0,   2,   0,   1,   0],\n",
              "       [ 29,   3, 766,  29, 106,   0, 188,   0,  11,   0],\n",
              "       [ 49,  29,  25, 820,  23,   5,  63,   1,  18,   0],\n",
              "       [  7,   6, 173,  69, 827,   0, 148,   0,   6,   0],\n",
              "       [  1,   0,   0,   0,   0, 852,   0,   8,   2,   2],\n",
              "       [ 74,   1,  21,  18,  41,   0, 405,   0,   6,   0],\n",
              "       [  0,   0,   0,   0,   0,  50,   0, 849,   4,  10],\n",
              "       [ 14,   2,   2,   1,   1,   6,  19,   0, 950,   1],\n",
              "       [  0,   0,   0,   0,   0,  87,   0, 142,   0, 987]])"
            ]
          },
          "metadata": {
            "tags": []
          },
          "execution_count": 29
        }
      ]
    },
    {
      "cell_type": "code",
      "metadata": {
        "colab": {
          "base_uri": "https://localhost:8080/"
        },
        "id": "oxYqsTStvjTY",
        "outputId": "7adc9051-ba47-4ace-8528-0b428199b324"
      },
      "source": [
        "accuracy_score(y_pred,y_test)"
      ],
      "execution_count": null,
      "outputs": [
        {
          "output_type": "execute_result",
          "data": {
            "text/plain": [
              "0.8235"
            ]
          },
          "metadata": {
            "tags": []
          },
          "execution_count": 30
        }
      ]
    },
    {
      "cell_type": "code",
      "metadata": {
        "id": "fAJhkQYjvmae"
      },
      "source": [
        "# Save the model\n",
        "\n",
        "model.save(\"fashion.hdf5\")"
      ],
      "execution_count": null,
      "outputs": []
    },
    {
      "cell_type": "code",
      "metadata": {
        "id": "INVrwpV8xxFy"
      },
      "source": [],
      "execution_count": null,
      "outputs": []
    }
  ]
}