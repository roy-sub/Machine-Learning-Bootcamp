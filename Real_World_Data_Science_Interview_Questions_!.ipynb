{
  "nbformat": 4,
  "nbformat_minor": 0,
  "metadata": {
    "colab": {
      "provenance": [],
      "authorship_tag": "ABX9TyMrH1CyWbkHVnowBP8xqyjq",
      "include_colab_link": true
    },
    "kernelspec": {
      "name": "python3",
      "display_name": "Python 3"
    },
    "language_info": {
      "name": "python"
    }
  },
  "cells": [
    {
      "cell_type": "markdown",
      "metadata": {
        "id": "view-in-github",
        "colab_type": "text"
      },
      "source": [
        "<a href=\"https://colab.research.google.com/github/roy-sub/Machine-Learning-Bootcamp/blob/main/Real_World_Data_Science_Interview_Questions_!.ipynb\" target=\"_parent\"><img src=\"https://colab.research.google.com/assets/colab-badge.svg\" alt=\"Open In Colab\"/></a>"
      ]
    },
    {
      "cell_type": "markdown",
      "source": [
        "###**Coding Questions :**\n",
        "\n",
        "###**Pb 1 : Finding Updated Records [Link](https://platform.stratascratch.com/coding/10299-finding-updated-records?code_type=2&via=keith)**\n",
        "\n",
        "###**Pb 2 : Number Of Bathrooms And Bedrooms [Link](https://platform.stratascratch.com/coding/9622-number-of-bathrooms-and-bedrooms?code_type=2&via=keith)**\n",
        "\n",
        "###**Pb 3 : Counting Instances in Text [Link](https://platform.stratascratch.com/coding/9814-counting-instances-in-text?code_type=2&via=keith)**\n",
        "\n",
        "###**Pb 4 : Customer Revenue In March [Link](https://platform.stratascratch.com/coding/9782-customer-revenue-in-march?code_type=2&via=keith)**\n",
        "\n",
        "###**Pb 5 : Monthly Percentage Difference [Link](https://platform.stratascratch.com/coding/10319-monthly-percentage-difference?code_type=2&via=keith)**\n",
        "\n",
        "###**Pb 6 : Premium vs Freemium [Link](https://platform.stratascratch.com/coding/10300-premium-vs-freemium?code_type=2&via=keith)**"
      ],
      "metadata": {
        "id": "MCGZ9HVkSGRM"
      }
    },
    {
      "cell_type": "markdown",
      "source": [
        "###**Non-Coding Questions :**"
      ],
      "metadata": {
        "id": "u2qskKKrTwfP"
      }
    },
    {
      "cell_type": "markdown",
      "source": [
        "###**Pb 1 : Credit Card Activity [Link](https://platform.stratascratch.com/technical/2342-credit-card-activity?via=keith)**\n",
        "\n",
        "###**Pb 2 : Outliers Detection [Link](https://platform.stratascratch.com/technical/2372-outliers-detection?via=keith)**\n",
        "\n",
        "###**Pb 3 : Probability of Having a Sister [Link](https://platform.stratascratch.com/technical/2368-probability-of-having-a-sister?via=keith)**\n",
        "\n",
        "###**Pb 4 : Uber Black Rides [Link](https://platform.stratascratch.com/technical/2305-uber-black-rides?via=keith)**\n",
        "\n",
        "###**Pb 5 : Terabyte of Data [Link](https://platform.stratascratch.com/technical/2364-terabyte-of-data?via=keith)**"
      ],
      "metadata": {
        "id": "aUTHuFzITwsw"
      }
    },
    {
      "cell_type": "markdown",
      "source": [
        "###**[Regular Expressions Cheat Sheet](https://cheatography.com/davechild/cheat-sheets/regular-expressions/)**"
      ],
      "metadata": {
        "id": "wjJ4vIM5Um4C"
      }
    }
  ]
}
