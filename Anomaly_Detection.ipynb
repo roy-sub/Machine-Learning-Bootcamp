{
  "cells": [
    {
      "cell_type": "markdown",
      "metadata": {
        "id": "view-in-github",
        "colab_type": "text"
      },
      "source": [
        "<a href=\"https://colab.research.google.com/github/roy-sub/Machine-Learning-Bootcamp/blob/main/Anomaly_Detection.ipynb\" target=\"_parent\"><img src=\"https://colab.research.google.com/assets/colab-badge.svg\" alt=\"Open In Colab\"/></a>"
      ]
    },
    {
      "cell_type": "markdown",
      "metadata": {
        "id": "iBFA2V6P5eVh"
      },
      "source": [
        "## Introduction\n",
        "\n",
        "This script demonstrates how you can use a reconstruction convolutional\n",
        "autoencoder model to detect anomalies in timeseries data."
      ]
    },
    {
      "cell_type": "markdown",
      "metadata": {
        "id": "LyyBE33H5eVi"
      },
      "source": [
        "## Setup"
      ]
    },
    {
      "cell_type": "code",
      "execution_count": null,
      "metadata": {
        "id": "A2mXlGgm5eVj"
      },
      "outputs": [],
      "source": [
        "import numpy as np\n",
        "import pandas as pd\n",
        "from tensorflow import keras\n",
        "from tensorflow.keras import layers\n",
        "from matplotlib import pyplot as plt"
      ]
    },
    {
      "cell_type": "markdown",
      "metadata": {
        "id": "OY6bux9T5eVk"
      },
      "source": [
        "## Load the data\n",
        "\n",
        "We will use the [Numenta Anomaly Benchmark(NAB)](\n",
        "https://www.kaggle.com/boltzmannbrain/nab) dataset. It provides artifical\n",
        "timeseries data containing labeled anomalous periods of behavior. Data are\n",
        "ordered, timestamped, single-valued metrics.\n",
        "\n",
        "We will use the `art_daily_small_noise.csv` file for training and the\n",
        "`art_daily_jumpsup.csv` file for testing. The simplicity of this dataset\n",
        "allows us to demonstrate anomaly detection effectively."
      ]
    },
    {
      "cell_type": "code",
      "execution_count": null,
      "metadata": {
        "id": "EQYejQqc5eVl"
      },
      "outputs": [],
      "source": [
        "master_url_root = \"https://raw.githubusercontent.com/numenta/NAB/master/data/\"\n",
        "\n",
        "df_small_noise_url_suffix = \"artificialNoAnomaly/art_daily_small_noise.csv\"\n",
        "df_small_noise_url = master_url_root + df_small_noise_url_suffix\n",
        "df_small_noise = pd.read_csv(\n",
        "    df_small_noise_url, parse_dates=True, index_col=\"timestamp\"\n",
        ")\n",
        "\n",
        "df_daily_jumpsup_url_suffix = \"artificialWithAnomaly/art_daily_jumpsup.csv\"\n",
        "df_daily_jumpsup_url = master_url_root + df_daily_jumpsup_url_suffix\n",
        "df_daily_jumpsup = pd.read_csv(\n",
        "    df_daily_jumpsup_url, parse_dates=True, index_col=\"timestamp\"\n",
        ")"
      ]
    },
    {
      "cell_type": "markdown",
      "metadata": {
        "id": "NCEFAYdH5eVm"
      },
      "source": [
        "## Quick look at the data"
      ]
    },
    {
      "cell_type": "code",
      "execution_count": null,
      "metadata": {
        "id": "A5jPmYor5eVn",
        "outputId": "ba3b985b-2655-45ea-87fc-565f0d2680db",
        "colab": {
          "base_uri": "https://localhost:8080/"
        }
      },
      "outputs": [
        {
          "output_type": "stream",
          "name": "stdout",
          "text": [
            "                         value\n",
            "timestamp                     \n",
            "2014-04-01 00:00:00  18.324919\n",
            "2014-04-01 00:05:00  21.970327\n",
            "2014-04-01 00:10:00  18.624806\n",
            "2014-04-01 00:15:00  21.953684\n",
            "2014-04-01 00:20:00  21.909120\n",
            "                         value\n",
            "timestamp                     \n",
            "2014-04-01 00:00:00  19.761252\n",
            "2014-04-01 00:05:00  20.500833\n",
            "2014-04-01 00:10:00  19.961641\n",
            "2014-04-01 00:15:00  21.490266\n",
            "2014-04-01 00:20:00  20.187739\n"
          ]
        }
      ],
      "source": [
        "print(df_small_noise.head())\n",
        "\n",
        "print(df_daily_jumpsup.head())"
      ]
    },
    {
      "cell_type": "markdown",
      "metadata": {
        "id": "UrEoUQA_5eVn"
      },
      "source": [
        "## Visualize the data\n",
        "### Timeseries data without anomalies\n",
        "\n",
        "We will use the following data for training."
      ]
    },
    {
      "cell_type": "code",
      "execution_count": null,
      "metadata": {
        "id": "0l91NZhl5eVo",
        "outputId": "52701dec-2c69-41aa-8a82-97927d39197a",
        "colab": {
          "base_uri": "https://localhost:8080/",
          "height": 303
        }
      },
      "outputs": [
        {
          "output_type": "display_data",
          "data": {
            "text/plain": [
              "<Figure size 432x288 with 1 Axes>"
            ],
            "image/png": "[encoded data removed]"
          },
          "metadata": {
            "needs_background": "light"
          }
        }
      ],
      "source": [
        "fig, ax = plt.subplots()\n",
        "df_small_noise.plot(legend=False, ax=ax)\n",
        "plt.show()"
      ]
    },
    {
      "cell_type": "markdown",
      "metadata": {
        "id": "0siZj8st5eVo"
      },
      "source": [
        "### Timeseries data with anomalies\n",
        "\n",
        "We will use the following data for testing and see if the sudden jump up in the\n",
        "data is detected as an anomaly."
      ]
    },
    {
      "cell_type": "code",
      "execution_count": null,
      "metadata": {
        "id": "oiiB0W0O5eVp",
        "outputId": "979f25af-88da-40fc-9786-729949fc27b9",
        "colab": {
          "base_uri": "https://localhost:8080/",
          "height": 303
        }
      },
      "outputs": [
        {
          "output_type": "display_data",
          "data": {
            "text/plain": [
              "<Figure size 432x288 with 1 Axes>"
            ],
            "image/png": "[encoded data removed]"
          },
          "metadata": {
            "needs_background": "light"
          }
        }
      ],
      "source": [
        "fig, ax = plt.subplots()\n",
        "df_daily_jumpsup.plot(legend=False, ax=ax)\n",
        "plt.show()"
      ]
    },
    {
      "cell_type": "markdown",
      "metadata": {
        "id": "kIVae3y45eVp"
      },
      "source": [
        "## Prepare training data\n",
        "\n",
        "Get data values from the training timeseries data file and normalize the\n",
        "`value` data. We have a `value` for every 5 mins for 14 days.\n",
        "\n",
        "-   24 * 60 / 5 = **288 timesteps per day**\n",
        "-   288 * 14 = **4032 data points** in total"
      ]
    },
    {
      "cell_type": "code",
      "execution_count": null,
      "metadata": {
        "id": "l__CC2oT5eVq",
        "outputId": "9e30dd1f-dede-4f54-8e11-6d9453a72d3c",
        "colab": {
          "base_uri": "https://localhost:8080/"
        }
      },
      "outputs": [
        {
          "output_type": "stream",
          "name": "stdout",
          "text": [
            "Number of training samples: 4032\n"
          ]
        }
      ],
      "source": [
        "\n",
        "# Normalize and save the mean and std we get,\n",
        "# for normalizing test data.\n",
        "training_mean = df_small_noise.mean()\n",
        "training_std = df_small_noise.std()\n",
        "df_training_value = (df_small_noise - training_mean) / training_std\n",
        "print(\"Number of training samples:\", len(df_training_value))"
      ]
    },
    {
      "cell_type": "markdown",
      "metadata": {
        "id": "sBMSv3U05eVq"
      },
      "source": [
        "### Create sequences\n",
        "Create sequences combining `TIME_STEPS` contiguous data values from the\n",
        "training data."
      ]
    },
    {
      "cell_type": "code",
      "execution_count": null,
      "metadata": {
        "id": "3m2o79dJ5eVq",
        "outputId": "0e529c6a-1733-4a46-f201-35d542ee61bb",
        "colab": {
          "base_uri": "https://localhost:8080/"
        }
      },
      "outputs": [
        {
          "output_type": "stream",
          "name": "stdout",
          "text": [
            "Training input shape:  (3745, 288, 1)\n"
          ]
        }
      ],
      "source": [
        "TIME_STEPS = 288\n",
        "\n",
        "# Generated training sequences for use in the model.\n",
        "def create_sequences(values, time_steps=TIME_STEPS):\n",
        "    output = []\n",
        "    for i in range(len(values) - time_steps + 1):\n",
        "        output.append(values[i : (i + time_steps)])\n",
        "    return np.stack(output)\n",
        "\n",
        "\n",
        "x_train = create_sequences(df_training_value.values)\n",
        "print(\"Training input shape: \", x_train.shape)"
      ]
    },
    {
      "cell_type": "markdown",
      "metadata": {
        "id": "e02qJbQ65eVr"
      },
      "source": [
        "## Build a model\n",
        "\n",
        "We will build a convolutional reconstruction autoencoder model. The model will\n",
        "take input of shape `(batch_size, sequence_length, num_features)` and return\n",
        "output of the same shape. In this case, `sequence_length` is 288 and\n",
        "`num_features` is 1."
      ]
    },
    {
      "cell_type": "code",
      "execution_count": null,
      "metadata": {
        "id": "f1dqawIQ5eVr",
        "outputId": "d2926333-6510-46eb-fa2c-5975f324c4b3",
        "colab": {
          "base_uri": "https://localhost:8080/"
        }
      },
      "outputs": [
        {
          "output_type": "stream",
          "name": "stdout",
          "text": [
            "Model: \"sequential\"\n",
            "_________________________________________________________________\n",
            " Layer (type)                Output Shape              Param #   \n",
            "=================================================================\n",
            " conv1d (Conv1D)             (None, 144, 32)           256       \n",
            "                                                                 \n",
            " dropout (Dropout)           (None, 144, 32)           0         \n",
            "                                                                 \n",
            " conv1d_1 (Conv1D)           (None, 72, 16)            3600      \n",
            "                                                                 \n",
            " conv1d_transpose (Conv1DTra  (None, 144, 16)          1808      \n",
            " nspose)                                                         \n",
            "                                                                 \n",
            " dropout_1 (Dropout)         (None, 144, 16)           0         \n",
            "                                                                 \n",
            " conv1d_transpose_1 (Conv1DT  (None, 288, 32)          3616      \n",
            " ranspose)                                                       \n",
            "                                                                 \n",
            " conv1d_transpose_2 (Conv1DT  (None, 288, 1)           225       \n",
            " ranspose)                                                       \n",
            "                                                                 \n",
            "=================================================================\n",
            "Total params: 9,505\n",
            "Trainable params: 9,505\n",
            "Non-trainable params: 0\n",
            "_________________________________________________________________\n"
          ]
        }
      ],
      "source": [
        "model = keras.Sequential(\n",
        "    [\n",
        "        layers.Input(shape=(x_train.shape[1], x_train.shape[2])),\n",
        "        layers.Conv1D(\n",
        "            filters=32, kernel_size=7, padding=\"same\", strides=2, activation=\"relu\"\n",
        "        ),\n",
        "        layers.Dropout(rate=0.2),\n",
        "        layers.Conv1D(\n",
        "            filters=16, kernel_size=7, padding=\"same\", strides=2, activation=\"relu\"\n",
        "        ),\n",
        "        layers.Conv1DTranspose(\n",
        "            filters=16, kernel_size=7, padding=\"same\", strides=2, activation=\"relu\"\n",
        "        ),\n",
        "        layers.Dropout(rate=0.2),\n",
        "        layers.Conv1DTranspose(\n",
        "            filters=32, kernel_size=7, padding=\"same\", strides=2, activation=\"relu\"\n",
        "        ),\n",
        "        layers.Conv1DTranspose(filters=1, kernel_size=7, padding=\"same\"),\n",
        "    ]\n",
        ")\n",
        "model.compile(optimizer=keras.optimizers.Adam(learning_rate=0.001), loss=\"mse\")\n",
        "model.summary()"
      ]
    },
    {
      "cell_type": "markdown",
      "metadata": {
        "id": "tPKmovuM5eVs"
      },
      "source": [
        "## Train the model\n",
        "\n",
        "Please note that we are using `x_train` as both the input and the target\n",
        "since this is a reconstruction model."
      ]
    },
    {
      "cell_type": "code",
      "execution_count": null,
      "metadata": {
        "id": "BKxMlsou5eVt",
        "outputId": "66ea2616-e671-4c23-f771-d54473f59b3d",
        "colab": {
          "base_uri": "https://localhost:8080/"
        }
      },
      "outputs": [
        {
          "output_type": "stream",
          "name": "stdout",
          "text": [
            "Epoch 1/50\n",
            "27/27 [==============================] - 6s 176ms/step - loss: 0.4952 - val_loss: 0.0596\n",
            "Epoch 2/50\n",
            "27/27 [==============================] - 4s 160ms/step - loss: 0.0793 - val_loss: 0.0401\n",
            "Epoch 3/50\n",
            "27/27 [==============================] - 5s 170ms/step - loss: 0.0567 - val_loss: 0.0363\n",
            "Epoch 4/50\n",
            "27/27 [==============================] - 5s 170ms/step - loss: 0.0476 - val_loss: 0.0313\n",
            "Epoch 5/50\n",
            "27/27 [==============================] - 4s 165ms/step - loss: 0.0408 - val_loss: 0.0303\n",
            "Epoch 6/50\n",
            "27/27 [==============================] - 2s 84ms/step - loss: 0.0358 - val_loss: 0.0297\n",
            "Epoch 7/50\n",
            "27/27 [==============================] - 2s 84ms/step - loss: 0.0322 - val_loss: 0.0297\n",
            "Epoch 8/50\n",
            "27/27 [==============================] - 2s 84ms/step - loss: 0.0293 - val_loss: 0.0299\n",
            "Epoch 9/50\n",
            "27/27 [==============================] - 2s 83ms/step - loss: 0.0270 - val_loss: 0.0275\n",
            "Epoch 10/50\n",
            "27/27 [==============================] - 2s 84ms/step - loss: 0.0251 - val_loss: 0.0277\n",
            "Epoch 11/50\n",
            "27/27 [==============================] - 2s 84ms/step - loss: 0.0233 - val_loss: 0.0256\n",
            "Epoch 12/50\n",
            "27/27 [==============================] - 2s 85ms/step - loss: 0.0220 - val_loss: 0.0263\n",
            "Epoch 13/50\n",
            "27/27 [==============================] - 2s 85ms/step - loss: 0.0206 - val_loss: 0.0234\n",
            "Epoch 14/50\n",
            "27/27 [==============================] - 2s 85ms/step - loss: 0.0197 - val_loss: 0.0215\n",
            "Epoch 15/50\n",
            "27/27 [==============================] - 2s 85ms/step - loss: 0.0187 - val_loss: 0.0220\n",
            "Epoch 16/50\n",
            "27/27 [==============================] - 2s 84ms/step - loss: 0.0180 - val_loss: 0.0200\n",
            "Epoch 17/50\n",
            "27/27 [==============================] - 2s 84ms/step - loss: 0.0173 - val_loss: 0.0180\n",
            "Epoch 18/50\n",
            "27/27 [==============================] - 3s 114ms/step - loss: 0.0167 - val_loss: 0.0177\n",
            "Epoch 19/50\n",
            "27/27 [==============================] - 2s 85ms/step - loss: 0.0161 - val_loss: 0.0155\n",
            "Epoch 20/50\n",
            "27/27 [==============================] - 2s 85ms/step - loss: 0.0156 - val_loss: 0.0150\n",
            "Epoch 21/50\n",
            "27/27 [==============================] - 2s 84ms/step - loss: 0.0150 - val_loss: 0.0145\n",
            "Epoch 22/50\n",
            "27/27 [==============================] - 2s 84ms/step - loss: 0.0145 - val_loss: 0.0135\n",
            "Epoch 23/50\n",
            "27/27 [==============================] - 2s 85ms/step - loss: 0.0141 - val_loss: 0.0128\n",
            "Epoch 24/50\n",
            "27/27 [==============================] - 2s 84ms/step - loss: 0.0137 - val_loss: 0.0119\n",
            "Epoch 25/50\n",
            "27/27 [==============================] - 2s 85ms/step - loss: 0.0132 - val_loss: 0.0115\n",
            "Epoch 26/50\n",
            "27/27 [==============================] - 2s 84ms/step - loss: 0.0128 - val_loss: 0.0111\n",
            "Epoch 27/50\n",
            "27/27 [==============================] - 2s 84ms/step - loss: 0.0125 - val_loss: 0.0103\n",
            "Epoch 28/50\n",
            "27/27 [==============================] - 2s 85ms/step - loss: 0.0120 - val_loss: 0.0097\n",
            "Epoch 29/50\n",
            "27/27 [==============================] - 2s 85ms/step - loss: 0.0116 - val_loss: 0.0095\n",
            "Epoch 30/50\n",
            "27/27 [==============================] - 2s 86ms/step - loss: 0.0112 - val_loss: 0.0086\n",
            "Epoch 31/50\n",
            "27/27 [==============================] - 2s 86ms/step - loss: 0.0108 - val_loss: 0.0084\n",
            "Epoch 32/50\n",
            "27/27 [==============================] - 2s 86ms/step - loss: 0.0104 - val_loss: 0.0081\n",
            "Epoch 33/50\n",
            "27/27 [==============================] - 2s 86ms/step - loss: 0.0100 - val_loss: 0.0078\n",
            "Epoch 34/50\n",
            "27/27 [==============================] - 2s 85ms/step - loss: 0.0097 - val_loss: 0.0074\n",
            "Epoch 35/50\n",
            "27/27 [==============================] - 2s 85ms/step - loss: 0.0094 - val_loss: 0.0072\n",
            "Epoch 36/50\n",
            "27/27 [==============================] - 2s 85ms/step - loss: 0.0090 - val_loss: 0.0066\n",
            "Epoch 37/50\n",
            "27/27 [==============================] - 2s 85ms/step - loss: 0.0087 - val_loss: 0.0067\n",
            "Epoch 38/50\n",
            "27/27 [==============================] - 2s 86ms/step - loss: 0.0084 - val_loss: 0.0063\n",
            "Epoch 39/50\n",
            "27/27 [==============================] - 2s 85ms/step - loss: 0.0082 - val_loss: 0.0063\n",
            "Epoch 40/50\n",
            "27/27 [==============================] - 3s 95ms/step - loss: 0.0080 - val_loss: 0.0065\n",
            "Epoch 41/50\n",
            "27/27 [==============================] - 3s 105ms/step - loss: 0.0079 - val_loss: 0.0059\n",
            "Epoch 42/50\n",
            "27/27 [==============================] - 2s 87ms/step - loss: 0.0076 - val_loss: 0.0059\n",
            "Epoch 43/50\n",
            "27/27 [==============================] - 2s 85ms/step - loss: 0.0075 - val_loss: 0.0057\n",
            "Epoch 44/50\n",
            "27/27 [==============================] - 2s 85ms/step - loss: 0.0073 - val_loss: 0.0058\n",
            "Epoch 45/50\n",
            "27/27 [==============================] - 2s 86ms/step - loss: 0.0072 - val_loss: 0.0054\n",
            "Epoch 46/50\n",
            "27/27 [==============================] - 2s 84ms/step - loss: 0.0070 - val_loss: 0.0052\n",
            "Epoch 47/50\n",
            "27/27 [==============================] - 2s 85ms/step - loss: 0.0069 - val_loss: 0.0055\n",
            "Epoch 48/50\n",
            "27/27 [==============================] - 2s 86ms/step - loss: 0.0068 - val_loss: 0.0050\n",
            "Epoch 49/50\n",
            "27/27 [==============================] - 2s 86ms/step - loss: 0.0067 - val_loss: 0.0051\n",
            "Epoch 50/50\n",
            "27/27 [==============================] - 2s 87ms/step - loss: 0.0066 - val_loss: 0.0049\n"
          ]
        }
      ],
      "source": [
        "history = model.fit(\n",
        "    x_train,\n",
        "    x_train,\n",
        "    epochs=50,\n",
        "    batch_size=128,\n",
        "    validation_split=0.1,\n",
        "    callbacks=[\n",
        "        keras.callbacks.EarlyStopping(monitor=\"val_loss\", patience=5, mode=\"min\")\n",
        "    ],\n",
        ")"
      ]
    },
    {
      "cell_type": "markdown",
      "metadata": {
        "id": "A0RYcdHC5eVu"
      },
      "source": [
        "Let's plot training and validation loss to see how the training went."
      ]
    },
    {
      "cell_type": "code",
      "execution_count": null,
      "metadata": {
        "id": "0gLT7Wep5eVu",
        "outputId": "fb5e3238-1688-4848-8964-4865c37ba5f0",
        "colab": {
          "base_uri": "https://localhost:8080/",
          "height": 265
        }
      },
      "outputs": [
        {
          "output_type": "display_data",
          "data": {
            "text/plain": [
              "<Figure size 432x288 with 1 Axes>"
            ],
            "image/png": "[encoded data removed]"
          },
          "metadata": {
            "needs_background": "light"
          }
        }
      ],
      "source": [
        "plt.plot(history.history[\"loss\"], label=\"Training Loss\")\n",
        "plt.plot(history.history[\"val_loss\"], label=\"Validation Loss\")\n",
        "plt.legend()\n",
        "plt.show()"
      ]
    },
    {
      "cell_type": "markdown",
      "metadata": {
        "id": "SUBOEh3r5eVv"
      },
      "source": [
        "## Detecting anomalies\n",
        "\n",
        "We will detect anomalies by determining how well our model can reconstruct\n",
        "the input data.\n",
        "\n",
        "\n",
        "1.   Find Mean Absolute Error (MAE) loss on training samples.\n",
        "2.   Find max MAE loss value. This is the worst our model has performed trying\n",
        "to reconstruct a sample. We will make this the `threshold` for anomaly\n",
        "detection.\n",
        "3.   If the reconstruction loss for a sample is greater than this `threshold`\n",
        "value then we can infer that the model is seeing a pattern that it isn't\n",
        "familiar with. We will label this sample as an `anomaly`.\n"
      ]
    },
    {
      "cell_type": "code",
      "execution_count": null,
      "metadata": {
        "id": "O4vDpihw5eVw",
        "outputId": "8f329fde-91e8-4597-8696-5760f448355b",
        "colab": {
          "base_uri": "https://localhost:8080/",
          "height": 296
        }
      },
      "outputs": [
        {
          "output_type": "display_data",
          "data": {
            "text/plain": [
              "<Figure size 432x288 with 1 Axes>"
            ],
            "image/png": "[encoded data removed]"
          },
          "metadata": {
            "needs_background": "light"
          }
        },
        {
          "output_type": "stream",
          "name": "stdout",
          "text": [
            "Reconstruction error threshold:  0.06464677561990866\n"
          ]
        }
      ],
      "source": [
        "# Get train MAE loss.\n",
        "x_train_pred = model.predict(x_train)\n",
        "train_mae_loss = np.mean(np.abs(x_train_pred - x_train), axis=1)\n",
        "\n",
        "plt.hist(train_mae_loss, bins=50)\n",
        "plt.xlabel(\"Train MAE loss\")\n",
        "plt.ylabel(\"No of samples\")\n",
        "plt.show()\n",
        "\n",
        "# Get reconstruction loss threshold.\n",
        "threshold = np.max(train_mae_loss)\n",
        "print(\"Reconstruction error threshold: \", threshold)"
      ]
    },
    {
      "cell_type": "markdown",
      "metadata": {
        "id": "ryO5D5WX5eVw"
      },
      "source": [
        "### Compare recontruction\n",
        "\n",
        "Just for fun, let's see how our model has recontructed the first sample.\n",
        "This is the 288 timesteps from day 1 of our training dataset."
      ]
    },
    {
      "cell_type": "code",
      "execution_count": null,
      "metadata": {
        "id": "PO_sXiLe5eVw",
        "outputId": "764cd3f4-e186-4bab-cf33-2ee066e55487",
        "colab": {
          "base_uri": "https://localhost:8080/",
          "height": 265
        }
      },
      "outputs": [
        {
          "output_type": "display_data",
          "data": {
            "text/plain": [
              "<Figure size 432x288 with 1 Axes>"
            ],
            "image/png": "[encoded data removed]"
          },
          "metadata": {
            "needs_background": "light"
          }
        }
      ],
      "source": [
        "# Checking how the first sequence is learnt\n",
        "plt.plot(x_train[0])\n",
        "plt.plot(x_train_pred[0])\n",
        "plt.show()"
      ]
    },
    {
      "cell_type": "markdown",
      "metadata": {
        "id": "5Da82iAY5eVw"
      },
      "source": [
        "### Prepare test data"
      ]
    },
    {
      "cell_type": "code",
      "execution_count": null,
      "metadata": {
        "id": "8lPr_27d5eVx",
        "outputId": "2c6a3941-8e57-4a67-aad2-1f9602d28f13",
        "colab": {
          "base_uri": "https://localhost:8080/",
          "height": 1000
        }
      },
      "outputs": [
        {
          "output_type": "display_data",
          "data": {
            "text/plain": [
              "<Figure size 432x288 with 1 Axes>"
            ],
            "image/png": "[encoded data removed]"
          },
          "metadata": {
            "needs_background": "light"
          }
        },
        {
          "output_type": "stream",
          "name": "stdout",
          "text": [
            "Test input shape:  (3745, 288, 1)\n"
          ]
        },
        {
          "output_type": "display_data",
          "data": {
            "text/plain": [
              "<Figure size 432x288 with 1 Axes>"
            ],
            "image/png": "[encoded data removed]"
          },
          "metadata": {
            "needs_background": "light"
          }
        },
        {
          "output_type": "stream",
          "name": "stdout",
          "text": [
            "Number of anomaly samples:  412\n",
            "Indices of anomaly samples:  (array([ 793,  973,  974, 1943, 2122, 2126, 2519, 2697, 2699, 2701, 2702,\n",
            "       2703, 2704, 2705, 2706, 2707, 2708, 2709, 2710, 2711, 2712, 2713,\n",
            "       2714, 2715, 2716, 2717, 2718, 2719, 2720, 2721, 2722, 2723, 2724,\n",
            "       2725, 2726, 2727, 2728, 2729, 2730, 2731, 2732, 2733, 2734, 2735,\n",
            "       2736, 2737, 2738, 2739, 2740, 2741, 2742, 2743, 2744, 2745, 2746,\n",
            "       2747, 2748, 2749, 2750, 2751, 2752, 2753, 2754, 2755, 2756, 2757,\n",
            "       2758, 2759, 2760, 2761, 2762, 2763, 2764, 2765, 2766, 2767, 2768,\n",
            "       2769, 2770, 2771, 2772, 2773, 2774, 2775, 2776, 2777, 2778, 2779,\n",
            "       2780, 2781, 2782, 2783, 2784, 2785, 2786, 2787, 2788, 2789, 2790,\n",
            "       2791, 2792, 2793, 2794, 2795, 2796, 2797, 2798, 2799, 2800, 2801,\n",
            "       2802, 2803, 2804, 2805, 2806, 2807, 2808, 2809, 2810, 2811, 2812,\n",
            "       2813, 2814, 2815, 2816, 2817, 2818, 2819, 2820, 2821, 2822, 2823,\n",
            "       2824, 2825, 2826, 2827, 2828, 2829, 2830, 2831, 2832, 2833, 2834,\n",
            "       2835, 2836, 2837, 2838, 2839, 2840, 2841, 2842, 2843, 2844, 2845,\n",
            "       2846, 2847, 2848, 2849, 2850, 2851, 2852, 2853, 2854, 2855, 2856,\n",
            "       2857, 2858, 2859, 2860, 2861, 2862, 2863, 2864, 2865, 2866, 2867,\n",
            "       2868, 2869, 2870, 2871, 2872, 2873, 2874, 2875, 2876, 2877, 2878,\n",
            "       2879, 2880, 2881, 2882, 2883, 2884, 2885, 2886, 2887, 2888, 2889,\n",
            "       2890, 2891, 2892, 2893, 2894, 2895, 2896, 2897, 2898, 2899, 2900,\n",
            "       2901, 2902, 2903, 2904, 2905, 2906, 2907, 2908, 2909, 2910, 2911,\n",
            "       2912, 2913, 2914, 2915, 2916, 2917, 2918, 2919, 2920, 2921, 2922,\n",
            "       2923, 2924, 2925, 2926, 2927, 2928, 2929, 2930, 2931, 2932, 2933,\n",
            "       2934, 2935, 2936, 2937, 2938, 2939, 2940, 2941, 2942, 2943, 2944,\n",
            "       2945, 2946, 2947, 2948, 2949, 2950, 2951, 2952, 2953, 2954, 2955,\n",
            "       2956, 2957, 2958, 2959, 2960, 2961, 2962, 2963, 2964, 2965, 2966,\n",
            "       2967, 2968, 2969, 2970, 2971, 2972, 2973, 2974, 2975, 2976, 2977,\n",
            "       2978, 2979, 2980, 2981, 2982, 2983, 2984, 2985, 2986, 2987, 2988,\n",
            "       2989, 2990, 2991, 2992, 2993, 2994, 2995, 2996, 2997, 2998, 2999,\n",
            "       3000, 3001, 3002, 3003, 3004, 3005, 3006, 3007, 3008, 3009, 3010,\n",
            "       3011, 3012, 3013, 3014, 3015, 3016, 3017, 3018, 3019, 3020, 3021,\n",
            "       3022, 3023, 3024, 3025, 3026, 3027, 3028, 3029, 3030, 3031, 3032,\n",
            "       3033, 3034, 3035, 3036, 3037, 3038, 3039, 3040, 3041, 3042, 3043,\n",
            "       3044, 3045, 3046, 3047, 3048, 3049, 3050, 3051, 3052, 3053, 3054,\n",
            "       3055, 3056, 3057, 3058, 3059, 3060, 3061, 3062, 3063, 3064, 3065,\n",
            "       3066, 3067, 3068, 3069, 3070, 3071, 3072, 3073, 3074, 3075, 3076,\n",
            "       3077, 3078, 3079, 3080, 3081, 3082, 3083, 3084, 3085, 3086, 3087,\n",
            "       3088, 3089, 3090, 3091, 3092, 3093, 3094, 3095, 3096, 3097, 3098,\n",
            "       3099, 3100, 3101, 3102, 3103]),)\n"
          ]
        }
      ],
      "source": [
        "\n",
        "df_test_value = (df_daily_jumpsup - training_mean) / training_std\n",
        "fig, ax = plt.subplots()\n",
        "df_test_value.plot(legend=True, ax=ax)\n",
        "plt.show()\n",
        "\n",
        "# Create sequences from test values.\n",
        "x_test = create_sequences(df_test_value.values)\n",
        "print(\"Test input shape: \", x_test.shape)\n",
        "\n",
        "# Get test MAE loss.\n",
        "x_test_pred = model.predict(x_test)\n",
        "test_mae_loss = np.mean(np.abs(x_test_pred - x_test), axis=1)\n",
        "test_mae_loss = test_mae_loss.reshape((-1))\n",
        "\n",
        "plt.hist(test_mae_loss, bins=50)\n",
        "plt.xlabel(\"test MAE loss\")\n",
        "plt.ylabel(\"No of samples\")\n",
        "plt.show()\n",
        "\n",
        "# Detect all the samples which are anomalies.\n",
        "anomalies = test_mae_loss > threshold\n",
        "print(\"Number of anomaly samples: \", np.sum(anomalies))\n",
        "print(\"Indices of anomaly samples: \", np.where(anomalies))"
      ]
    },
    {
      "cell_type": "markdown",
      "metadata": {
        "id": "L2wpXd395eVx"
      },
      "source": [
        "## Plot anomalies\n",
        "\n",
        "We now know the samples of the data which are anomalies. With this, we will\n",
        "find the corresponding `timestamps` from the original test data. We will be\n",
        "using the following method to do that:\n",
        "\n",
        "Let's say time_steps = 3 and we have 10 training values. Our `x_train` will\n",
        "look like this:\n",
        "\n",
        "- 0, 1, 2\n",
        "- 1, 2, 3\n",
        "- 2, 3, 4\n",
        "- 3, 4, 5\n",
        "- 4, 5, 6\n",
        "- 5, 6, 7\n",
        "- 6, 7, 8\n",
        "- 7, 8, 9\n",
        "\n",
        "All except the initial and the final time_steps-1 data values, will appear in\n",
        "`time_steps` number of samples. So, if we know that the samples\n",
        "[(3, 4, 5), (4, 5, 6), (5, 6, 7)] are anomalies, we can say that the data point\n",
        "5 is an anomaly."
      ]
    },
    {
      "cell_type": "code",
      "execution_count": null,
      "metadata": {
        "id": "_MWJMVzJ5eVx"
      },
      "outputs": [],
      "source": [
        "# data i is an anomaly if samples [(i - timesteps + 1) to (i)] are anomalies\n",
        "anomalous_data_indices = []\n",
        "for data_idx in range(TIME_STEPS - 1, len(df_test_value) - TIME_STEPS + 1):\n",
        "    if np.all(anomalies[data_idx - TIME_STEPS + 1 : data_idx]):\n",
        "        anomalous_data_indices.append(data_idx)"
      ]
    },
    {
      "cell_type": "markdown",
      "metadata": {
        "id": "uxy3NGCu5eVy"
      },
      "source": [
        "Let's overlay the anomalies on the original test data plot."
      ]
    },
    {
      "cell_type": "code",
      "execution_count": null,
      "metadata": {
        "id": "WtgsTfbW5eVy",
        "outputId": "1a705ff6-c3eb-401d-9051-e3f02134bea0",
        "colab": {
          "base_uri": "https://localhost:8080/",
          "height": 303
        }
      },
      "outputs": [
        {
          "output_type": "display_data",
          "data": {
            "text/plain": [
              "<Figure size 432x288 with 1 Axes>"
            ],
            "image/png": "[encoded data removed]"
          },
          "metadata": {
            "needs_background": "light"
          }
        }
      ],
      "source": [
        "df_subset = df_daily_jumpsup.iloc[anomalous_data_indices]\n",
        "fig, ax = plt.subplots()\n",
        "df_daily_jumpsup.plot(legend=False, ax=ax)\n",
        "df_subset.plot(legend=False, ax=ax, color=\"r\")\n",
        "plt.show()"
      ]
    }
  ],
  "metadata": {
    "colab": {
      "provenance": [],
      "include_colab_link": true
    },
    "kernelspec": {
      "display_name": "Python 3",
      "language": "python",
      "name": "python3"
    },
    "language_info": {
      "codemirror_mode": {
        "name": "ipython",
        "version": 3
      },
      "file_extension": ".py",
      "mimetype": "text/x-python",
      "name": "python",
      "nbconvert_exporter": "python",
      "pygments_lexer": "ipython3",
      "version": "3.7.0"
    }
  },
  "nbformat": 4,
  "nbformat_minor": 0
}