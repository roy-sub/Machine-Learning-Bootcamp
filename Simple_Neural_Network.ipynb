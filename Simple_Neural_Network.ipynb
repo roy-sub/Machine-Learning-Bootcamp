{
  "cells": [
    {
      "cell_type": "markdown",
      "metadata": {
        "id": "view-in-github",
        "colab_type": "text"
      },
      "source": [
        "<a href=\"https://colab.research.google.com/github/roy-sub/Machine-Learning-Bootcamp/blob/main/Simple_Neural_Network.ipynb\" target=\"_parent\"><img src=\"https://colab.research.google.com/assets/colab-badge.svg\" alt=\"Open In Colab\"/></a>"
      ]
    },
    {
      "cell_type": "code",
      "execution_count": null,
      "metadata": {
        "colab": {
          "base_uri": "https://localhost:8080/"
        },
        "id": "AINlRSW_7ZT7",
        "outputId": "3145e698-e4cd-4bdf-cbd1-8e246eecbf0a"
      },
      "outputs": [
        {
          "data": {
            "text/plain": [
              "0.21606"
            ]
          },
          "execution_count": 1,
          "metadata": {
            "tags": []
          },
          "output_type": "execute_result"
        }
      ],
      "source": [
        "# MSE - Mean Squared Error\n",
        "# Real values\n",
        "y_true = [1,2,1,2,4]\n",
        "# Predcited Values\n",
        "y_pred = [1.29,2.69,0.6,1.99,3.4]\n",
        "\n",
        "import numpy as np\n",
        "\n",
        "np.mean(np.square(np.subtract(y_true,y_pred)))"
      ]
    },
    {
      "cell_type": "code",
      "execution_count": null,
      "metadata": {
        "colab": {
          "base_uri": "https://localhost:8080/"
        },
        "id": "rrUZM0jf82HJ",
        "outputId": "a91902d6-e906-4e64-8d5c-614bc8032edd"
      },
      "outputs": [
        {
          "data": {
            "text/plain": [
              "0.030019999999999998"
            ]
          },
          "execution_count": 2,
          "metadata": {
            "tags": []
          },
          "output_type": "execute_result"
        }
      ],
      "source": [
        "# MSE - Mean Squared Error\n",
        "# Real values\n",
        "y_true = [1,2,1,2,4]\n",
        "# Predcited Values\n",
        "y_pred = [1.1,2.2,0.9,1.99,3.7]\n",
        "\n",
        "import numpy as np\n",
        "np.square(np.subtract(y_true,y_pred)).mean()"
      ]
    },
    {
      "cell_type": "code",
      "execution_count": null,
      "metadata": {
        "id": "6AOwJcHm9KN9"
      },
      "outputs": [],
      "source": [
        "# Deep Neural Network for Adding 2 numbers"
      ]
    },
    {
      "cell_type": "code",
      "execution_count": null,
      "metadata": {
        "id": "IT55b0PU-Ydg"
      },
      "outputs": [],
      "source": [
        "# Data : Training Data and Testing Data\n",
        "import numpy as np\n",
        "x_train = np.array([[1.0,1.0]])\n",
        "y_train = np.array([2.0])"
      ]
    },
    {
      "cell_type": "code",
      "execution_count": null,
      "metadata": {
        "id": "nMMrqs0K-sao"
      },
      "outputs": [],
      "source": [
        "for i in range(3,10000,2):\n",
        "  x_train = np.append(x_train,[[i,i]],axis=0)\n",
        "  y_train = np.append(y_train,[i+i])"
      ]
    },
    {
      "cell_type": "code",
      "execution_count": null,
      "metadata": {
        "id": "XYI8Iesa_PE7"
      },
      "outputs": [],
      "source": [
        "x_test = np.array([[2.0,2.0]])\n",
        "y_test = np.array([4.0])"
      ]
    },
    {
      "cell_type": "code",
      "execution_count": null,
      "metadata": {
        "id": "WtyK0aRE_ZkT"
      },
      "outputs": [],
      "source": [
        "for i in range(4,8000,4):\n",
        "  x_test = np.append(x_test,[[i,i]],axis=0)\n",
        "  y_test = np.append(y_test,[i+i])"
      ]
    },
    {
      "cell_type": "code",
      "execution_count": null,
      "metadata": {
        "colab": {
          "base_uri": "https://localhost:8080/"
        },
        "id": "AjRlste7_00v",
        "outputId": "57077058-a7ab-47cb-d994-a1aca155f4c4"
      },
      "outputs": [
        {
          "data": {
            "text/plain": [
              "array([40., 40.])"
            ]
          },
          "execution_count": 8,
          "metadata": {
            "tags": []
          },
          "output_type": "execute_result"
        }
      ],
      "source": [
        "x_test[10]"
      ]
    },
    {
      "cell_type": "code",
      "execution_count": null,
      "metadata": {
        "colab": {
          "base_uri": "https://localhost:8080/"
        },
        "id": "E-8gFQS9_3Ec",
        "outputId": "ba7eba17-c2ce-4c37-b7ae-d4458fc04548"
      },
      "outputs": [
        {
          "data": {
            "text/plain": [
              "80.0"
            ]
          },
          "execution_count": 9,
          "metadata": {
            "tags": []
          },
          "output_type": "execute_result"
        }
      ],
      "source": [
        "y_test[10]"
      ]
    },
    {
      "cell_type": "code",
      "execution_count": null,
      "metadata": {
        "colab": {
          "base_uri": "https://localhost:8080/"
        },
        "id": "YxlzbtQc_5Jv",
        "outputId": "604b1e8f-a950-43a5-8fcb-53f3f52aec97"
      },
      "outputs": [
        {
          "data": {
            "text/plain": [
              "2000"
            ]
          },
          "execution_count": 10,
          "metadata": {
            "tags": []
          },
          "output_type": "execute_result"
        }
      ],
      "source": [
        "len(x_test)"
      ]
    },
    {
      "cell_type": "code",
      "execution_count": null,
      "metadata": {
        "id": "HQg6DFRJAPry"
      },
      "outputs": [],
      "source": [
        "# x_train,y_train = Training my model\n",
        "# x_test = To test my input value\n",
        "# y_pred = Predicted output\n",
        "# y_test = Real test output\n",
        "\n",
        "# For Loss and accuracy, we will compare y_pred with y_test"
      ]
    },
    {
      "cell_type": "code",
      "execution_count": null,
      "metadata": {
        "colab": {
          "base_uri": "https://localhost:8080/",
          "height": 402
        },
        "id": "4BTxov_9BEEg",
        "outputId": "eecb2a92-1094-43f8-cd7c-2b95fefa5ca9"
      },
      "outputs": [
        {
          "data": {
            "text/html": [
              "<div>\n",
              "<style scoped>\n",
              "    .dataframe tbody tr th:only-of-type {\n",
              "        vertical-align: middle;\n",
              "    }\n",
              "\n",
              "    .dataframe tbody tr th {\n",
              "        vertical-align: top;\n",
              "    }\n",
              "\n",
              "    .dataframe thead th {\n",
              "        text-align: right;\n",
              "    }\n",
              "</style>\n",
              "<table border=\"1\" class=\"dataframe\">\n",
              "  <thead>\n",
              "    <tr style=\"text-align: right;\">\n",
              "      <th></th>\n",
              "      <th>0</th>\n",
              "      <th>1</th>\n",
              "      <th>Target</th>\n",
              "    </tr>\n",
              "  </thead>\n",
              "  <tbody>\n",
              "    <tr>\n",
              "      <th>0</th>\n",
              "      <td>1.0</td>\n",
              "      <td>1.0</td>\n",
              "      <td>2.0</td>\n",
              "    </tr>\n",
              "    <tr>\n",
              "      <th>1</th>\n",
              "      <td>3.0</td>\n",
              "      <td>3.0</td>\n",
              "      <td>6.0</td>\n",
              "    </tr>\n",
              "    <tr>\n",
              "      <th>2</th>\n",
              "      <td>5.0</td>\n",
              "      <td>5.0</td>\n",
              "      <td>10.0</td>\n",
              "    </tr>\n",
              "    <tr>\n",
              "      <th>3</th>\n",
              "      <td>7.0</td>\n",
              "      <td>7.0</td>\n",
              "      <td>14.0</td>\n",
              "    </tr>\n",
              "    <tr>\n",
              "      <th>4</th>\n",
              "      <td>9.0</td>\n",
              "      <td>9.0</td>\n",
              "      <td>18.0</td>\n",
              "    </tr>\n",
              "    <tr>\n",
              "      <th>...</th>\n",
              "      <td>...</td>\n",
              "      <td>...</td>\n",
              "      <td>...</td>\n",
              "    </tr>\n",
              "    <tr>\n",
              "      <th>4995</th>\n",
              "      <td>9991.0</td>\n",
              "      <td>9991.0</td>\n",
              "      <td>19982.0</td>\n",
              "    </tr>\n",
              "    <tr>\n",
              "      <th>4996</th>\n",
              "      <td>9993.0</td>\n",
              "      <td>9993.0</td>\n",
              "      <td>19986.0</td>\n",
              "    </tr>\n",
              "    <tr>\n",
              "      <th>4997</th>\n",
              "      <td>9995.0</td>\n",
              "      <td>9995.0</td>\n",
              "      <td>19990.0</td>\n",
              "    </tr>\n",
              "    <tr>\n",
              "      <th>4998</th>\n",
              "      <td>9997.0</td>\n",
              "      <td>9997.0</td>\n",
              "      <td>19994.0</td>\n",
              "    </tr>\n",
              "    <tr>\n",
              "      <th>4999</th>\n",
              "      <td>9999.0</td>\n",
              "      <td>9999.0</td>\n",
              "      <td>19998.0</td>\n",
              "    </tr>\n",
              "  </tbody>\n",
              "</table>\n",
              "<p>5000 rows × 3 columns</p>\n",
              "</div>"
            ],
            "text/plain": [
              "           0       1   Target\n",
              "0        1.0     1.0      2.0\n",
              "1        3.0     3.0      6.0\n",
              "2        5.0     5.0     10.0\n",
              "3        7.0     7.0     14.0\n",
              "4        9.0     9.0     18.0\n",
              "...      ...     ...      ...\n",
              "4995  9991.0  9991.0  19982.0\n",
              "4996  9993.0  9993.0  19986.0\n",
              "4997  9995.0  9995.0  19990.0\n",
              "4998  9997.0  9997.0  19994.0\n",
              "4999  9999.0  9999.0  19998.0\n",
              "\n",
              "[5000 rows x 3 columns]"
            ]
          },
          "execution_count": 12,
          "metadata": {
            "tags": []
          },
          "output_type": "execute_result"
        }
      ],
      "source": [
        "import pandas as pd\n",
        "df = pd.DataFrame(x_train)\n",
        "df['Target'] = y_train\n",
        "df"
      ]
    },
    {
      "cell_type": "code",
      "execution_count": null,
      "metadata": {
        "colab": {
          "base_uri": "https://localhost:8080/",
          "height": 35
        },
        "id": "t-xCBxWQBNtX",
        "outputId": "a388c5da-40f4-431e-eb9f-3fa0ec1fd1e4"
      },
      "outputs": [
        {
          "data": {
            "application/vnd.google.colaboratory.intrinsic+json": {
              "type": "string"
            },
            "text/plain": [
              "'2.4.1'"
            ]
          },
          "execution_count": 13,
          "metadata": {
            "tags": []
          },
          "output_type": "execute_result"
        }
      ],
      "source": [
        "import tensorflow as tf\n",
        "tf.__version__"
      ]
    },
    {
      "cell_type": "code",
      "execution_count": null,
      "metadata": {
        "colab": {
          "base_uri": "https://localhost:8080/"
        },
        "id": "8VidqmqjDBGQ",
        "outputId": "970dd971-0751-46a2-dafc-b0f8c06363d7"
      },
      "outputs": [
        {
          "data": {
            "text/plain": [
              "array([1, 2, 3, 3, 4, 5, 4, 5, 6])"
            ]
          },
          "execution_count": 14,
          "metadata": {
            "tags": []
          },
          "output_type": "execute_result"
        }
      ],
      "source": [
        "z = np.array([[1,2,3],[3,4,5],[4,5,6]])\n",
        "z1 = np.ndarray.flatten(z)\n",
        "z1"
      ]
    },
    {
      "cell_type": "code",
      "execution_count": null,
      "metadata": {
        "colab": {
          "base_uri": "https://localhost:8080/"
        },
        "id": "xXyxQtFvE8R-",
        "outputId": "09fdc50a-e26a-4cef-a173-97bb9b602a55"
      },
      "outputs": [
        {
          "data": {
            "text/plain": [
              "(9,)"
            ]
          },
          "execution_count": 15,
          "metadata": {
            "tags": []
          },
          "output_type": "execute_result"
        }
      ],
      "source": [
        "z1.shape"
      ]
    },
    {
      "cell_type": "code",
      "execution_count": null,
      "metadata": {
        "colab": {
          "base_uri": "https://localhost:8080/"
        },
        "id": "N0fK39ISFPqx",
        "outputId": "3d598604-caba-4692-f8fd-ebc971d63047"
      },
      "outputs": [
        {
          "data": {
            "text/plain": [
              "(2,)"
            ]
          },
          "execution_count": 16,
          "metadata": {
            "tags": []
          },
          "output_type": "execute_result"
        }
      ],
      "source": [
        "x_train[1000].shape"
      ]
    },
    {
      "cell_type": "code",
      "execution_count": null,
      "metadata": {
        "id": "w0Mnc8X-CHHw"
      },
      "outputs": [],
      "source": [
        "from tensorflow import keras"
      ]
    },
    {
      "cell_type": "code",
      "execution_count": null,
      "metadata": {
        "id": "bGbhVlytCP9f"
      },
      "outputs": [],
      "source": [
        "model = keras.Sequential()\n",
        "model.add(keras.layers.Flatten(input_shape=x_train[0].shape)) # Input Layer\n",
        "model.add(keras.layers.Dense(2,activation ='relu' )) # Hidden Layer\n",
        "model.add(keras.layers.Dense(1)) # Output Layer"
      ]
    },
    {
      "cell_type": "code",
      "execution_count": null,
      "metadata": {
        "id": "yd_IzbyPUUnI"
      },
      "outputs": [],
      "source": [
        "# Input Layer = 5000\n",
        "# Hidden Layer = 2000\n",
        "# Output Layer = 1"
      ]
    },
    {
      "cell_type": "code",
      "execution_count": null,
      "metadata": {
        "colab": {
          "base_uri": "https://localhost:8080/"
        },
        "id": "7yiAJe4aGJ_j",
        "outputId": "594fb4ea-22de-4210-8a89-70330b40f624"
      },
      "outputs": [
        {
          "data": {
            "text/plain": [
              "[array([[-0.23521721,  0.78574026],\n",
              "        [ 0.38380408, -0.86746943]], dtype=float32),\n",
              " array([0., 0.], dtype=float32),\n",
              " array([[ 0.36433315],\n",
              "        [-1.1286039 ]], dtype=float32),\n",
              " array([0.], dtype=float32)]"
            ]
          },
          "execution_count": 20,
          "metadata": {
            "tags": []
          },
          "output_type": "execute_result"
        }
      ],
      "source": [
        "bf_train = model.get_weights()\n",
        "bf_train"
      ]
    },
    {
      "cell_type": "code",
      "execution_count": null,
      "metadata": {
        "colab": {
          "base_uri": "https://localhost:8080/"
        },
        "id": "nIY4ZYxVGXgY",
        "outputId": "b95f278e-5c62-4e58-eccc-fef15be8d307"
      },
      "outputs": [
        {
          "name": "stdout",
          "output_type": "stream",
          "text": [
            "Model: \"sequential\"\n",
            "_________________________________________________________________\n",
            "Layer (type)                 Output Shape              Param #   \n",
            "=================================================================\n",
            "flatten (Flatten)            (None, 2)                 0         \n",
            "_________________________________________________________________\n",
            "dense (Dense)                (None, 2)                 6         \n",
            "_________________________________________________________________\n",
            "dense_1 (Dense)              (None, 1)                 3         \n",
            "=================================================================\n",
            "Total params: 9\n",
            "Trainable params: 9\n",
            "Non-trainable params: 0\n",
            "_________________________________________________________________\n"
          ]
        }
      ],
      "source": [
        "model.summary()"
      ]
    },
    {
      "cell_type": "code",
      "execution_count": null,
      "metadata": {
        "id": "tHebZO6AWrmC"
      },
      "outputs": [],
      "source": [
        "model.compile(optimizer='adam',loss = 'mse')"
      ]
    },
    {
      "cell_type": "code",
      "execution_count": null,
      "metadata": {
        "colab": {
          "background_save": true,
          "base_uri": "https://localhost:8080/"
        },
        "id": "itVGck0JXYwu",
        "outputId": "e60d1878-cb87-46dc-9d34-b3e68da7e3d5"
      },
      "outputs": [
        {
          "name": "stdout",
          "output_type": "stream",
          "text": [
            "Epoch 1/20\n",
            "5000/5000 [==============================] - 4s 791us/step - loss: 140298726.3845\n",
            "Epoch 2/20\n",
            "5000/5000 [==============================] - 4s 790us/step - loss: 133724460.2903\n",
            "Epoch 3/20\n",
            "5000/5000 [==============================] - 4s 793us/step - loss: 130742402.2380\n",
            "Epoch 4/20\n",
            "5000/5000 [==============================] - 4s 800us/step - loss: 131397408.5663\n",
            "Epoch 5/20\n",
            "5000/5000 [==============================] - 4s 816us/step - loss: 133592810.0428\n",
            "Epoch 6/20\n",
            "5000/5000 [==============================] - 4s 805us/step - loss: 131435672.0304\n",
            "Epoch 7/20\n",
            "5000/5000 [==============================] - 4s 795us/step - loss: 133519907.1866\n",
            "Epoch 8/20\n",
            "5000/5000 [==============================] - 4s 786us/step - loss: 133454494.7080\n",
            "Epoch 9/20\n",
            "5000/5000 [==============================] - 4s 776us/step - loss: 134113429.3981\n",
            "Epoch 10/20\n",
            "5000/5000 [==============================] - 4s 779us/step - loss: 131348723.2793\n",
            "Epoch 11/20\n",
            "5000/5000 [==============================] - 4s 781us/step - loss: 134285802.8226\n",
            "Epoch 12/20\n",
            "5000/5000 [==============================] - 4s 775us/step - loss: 133246110.5539\n",
            "Epoch 13/20\n",
            "5000/5000 [==============================] - 4s 779us/step - loss: 132965009.5277\n",
            "Epoch 14/20\n",
            "5000/5000 [==============================] - 4s 784us/step - loss: 131963352.1408\n",
            "Epoch 15/20\n",
            "5000/5000 [==============================] - 4s 782us/step - loss: 132942827.8216\n",
            "Epoch 16/20\n",
            "5000/5000 [==============================] - 4s 749us/step - loss: 133168162.9234\n",
            "Epoch 17/20\n",
            "5000/5000 [==============================] - 4s 755us/step - loss: 132221062.2127\n",
            "Epoch 18/20\n",
            "5000/5000 [==============================] - 4s 742us/step - loss: 131989630.3819\n",
            "Epoch 19/20\n",
            "5000/5000 [==============================] - 4s 739us/step - loss: 129746990.4251\n",
            "Epoch 20/20\n",
            "5000/5000 [==============================] - 4s 737us/step - loss: 133342059.3561\n"
          ]
        }
      ],
      "source": [
        "history = model.fit(x_train,y_train,epochs = 200)\n",
        "\n",
        "# Epochs: Number of times youe model sees your data.\n",
        "# Forward Propogation + Backward Propogation\n",
        "\n",
        "# Callbacks : \n",
        "# Consider epochs = 200 \n",
        "# At 50th epoch, loss is least.\n",
        "# From 51st epich, loss will increase\n",
        "# With callback, stop training after 50 epochs"
      ]
    },
    {
      "cell_type": "code",
      "execution_count": null,
      "metadata": {
        "colab": {
          "background_save": true
        },
        "id": "v66nIPgecarO",
        "outputId": "0bfb4836-a8ce-4770-8195-3d86c7539724"
      },
      "outputs": [
        {
          "data": {
            "text/plain": [
              "[<matplotlib.lines.Line2D at 0x7f49fc429c50>]"
            ]
          },
          "execution_count": null,
          "metadata": {},
          "output_type": "execute_result"
        },
        {
          "data": {
            "image/png": "[encoded data removed]",
            "text/plain": [
              "<Figure size 432x288 with 1 Axes>"
            ]
          },
          "metadata": {},
          "output_type": "display_data"
        }
      ],
      "source": [
        "import matplotlib.pyplot as plt\n",
        "plt.plot(history.history['loss'])"
      ]
    },
    {
      "cell_type": "code",
      "execution_count": null,
      "metadata": {
        "colab": {
          "background_save": true
        },
        "id": "d3lO5r51Yanb",
        "outputId": "e08418de-82d0-40f9-d150-394ab012f713"
      },
      "outputs": [
        {
          "data": {
            "text/plain": [
              "31.84713375796178"
            ]
          },
          "execution_count": null,
          "metadata": {},
          "output_type": "execute_result"
        }
      ],
      "source": [
        "# Batch = \n",
        "# Batch size is 32\n",
        "5000/157"
      ]
    },
    {
      "cell_type": "code",
      "execution_count": null,
      "metadata": {
        "colab": {
          "background_save": true
        },
        "id": "rINEiWzKY7eJ",
        "outputId": "a780f81f-c8d6-4c11-f194-7ab6091b54c8"
      },
      "outputs": [
        {
          "data": {
            "text/plain": [
              "[array([[-0.57425773,  0.50090325],\n",
              "        [ 0.1543274 , -0.51242197]], dtype=float32),\n",
              " array([ 0.        , -0.19969103], dtype=float32),\n",
              " array([[-0.4062562],\n",
              "        [-1.0030149]], dtype=float32),\n",
              " array([86.45023], dtype=float32)]"
            ]
          },
          "execution_count": null,
          "metadata": {},
          "output_type": "execute_result"
        }
      ],
      "source": [
        "af_train = model.get_weights()\n",
        "af_train"
      ]
    },
    {
      "cell_type": "code",
      "execution_count": null,
      "metadata": {
        "colab": {
          "background_save": true
        },
        "id": "EwXizJBrZuX1",
        "outputId": "01cae08b-e65d-4f46-940a-2a56217b4bcd"
      },
      "outputs": [
        {
          "name": "stdout",
          "output_type": "stream",
          "text": [
            "63/63 [==============================] - 0s 734us/step - loss: 83894304.0000\n"
          ]
        },
        {
          "data": {
            "text/plain": [
              "83894304.0"
            ]
          },
          "execution_count": null,
          "metadata": {},
          "output_type": "execute_result"
        }
      ],
      "source": [
        "# Evaluating for Test data\n",
        "\n",
        "model.evaluate(x_test,y_test)"
      ]
    },
    {
      "cell_type": "code",
      "execution_count": null,
      "metadata": {
        "colab": {
          "background_save": true
        },
        "id": "dCNlBsndaR2D",
        "outputId": "5a05797d-d40b-4415-db25-b53b47faeaf9"
      },
      "outputs": [
        {
          "data": {
            "text/plain": [
              "array([[86.45023],\n",
              "       [86.45023],\n",
              "       [86.45023],\n",
              "       [86.45023],\n",
              "       [86.45023],\n",
              "       [86.45023],\n",
              "       [86.45023],\n",
              "       [86.45023],\n",
              "       [86.45023],\n",
              "       [86.45023]], dtype=float32)"
            ]
          },
          "execution_count": null,
          "metadata": {},
          "output_type": "execute_result"
        }
      ],
      "source": [
        "y_pred = model.predict(x_test)\n",
        "y_pred[0:10]"
      ]
    },
    {
      "cell_type": "code",
      "execution_count": null,
      "metadata": {
        "colab": {
          "background_save": true
        },
        "id": "6wVh7zuqaace",
        "outputId": "2bae7451-60da-4002-9639-541a7cb8948b"
      },
      "outputs": [
        {
          "data": {
            "text/plain": [
              "array([ 4.,  8., 16., 24., 32., 40., 48., 56., 64., 72.])"
            ]
          },
          "execution_count": null,
          "metadata": {},
          "output_type": "execute_result"
        }
      ],
      "source": [
        "y_test[0:10]"
      ]
    },
    {
      "cell_type": "markdown",
      "metadata": {
        "id": "55ToympOd9yb"
      },
      "source": [
        "# Summary:\n",
        "\n",
        "1. Get Data\n",
        "2. Divide into Training and Testing\n",
        "3. Create a Neural Network Architecture : Input, Hidden and Output Layer Neurons along with Activation Function\n",
        "\n",
        "Activation Function for Hidden layer is Relu\n",
        "For output layer: For Regression, its Relu or Linear\n",
        "                  For Classification, its Sigmoid(Binary)\n",
        "                    SOftmax(Multi-class)\n",
        "\n",
        "4. Check for INitial Weights if needed\n",
        "5. Compile the model(Optmizer,Loss = 'MSE / Cross-ENtropy ',Accuracy)\n",
        "6. Fit the model ( Training Data, Epochs, Batch_size=32)\n",
        "7. Predict for test data and evaluate the model ( Loss and accuracy)"
      ]
    },
    {
      "cell_type": "code",
      "execution_count": null,
      "metadata": {
        "colab": {
          "background_save": true
        },
        "id": "2HX0l0x1asop"
      },
      "outputs": [],
      "source": []
    }
  ],
  "metadata": {
    "accelerator": "GPU",
    "colab": {
      "provenance": [],
      "include_colab_link": true
    },
    "kernelspec": {
      "display_name": "Python 3",
      "name": "python3"
    }
  },
  "nbformat": 4,
  "nbformat_minor": 0
}